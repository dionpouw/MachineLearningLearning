{
  "nbformat": 4,
  "nbformat_minor": 0,
  "metadata": {
    "colab": {
      "name": "SubmissionAkhirPengembanganMachineLearning.ipynb",
      "provenance": [],
      "collapsed_sections": []
    },
    "kernelspec": {
      "name": "python3",
      "display_name": "Python 3"
    },
    "language_info": {
      "name": "python"
    },
    "accelerator": "GPU"
  },
  "cells": [
    {
      "cell_type": "code",
      "metadata": {
        "id": "aUVWSF8SPp_F"
      },
      "source": [
        "from tensorflow.keras.preprocessing.image import ImageDataGenerator\n",
        "import tensorflow as tf\n",
        "import matplotlib.pyplot as plt"
      ],
      "execution_count": 1,
      "outputs": []
    },
    {
      "cell_type": "code",
      "metadata": {
        "id": "_BHQRBQXRre0"
      },
      "source": [
        "class myCallback(tf.keras.callbacks.Callback):\n",
        "  def on_epoch_end(self, epoch, logs={}):\n",
        "    if(logs.get('accuracy')>=0.92 ):\n",
        "      print(\"\\nAkurasi telah mencapai >92%!\")\n",
        "      self.model.stop_training = True\n",
        "callbacks = myCallback()"
      ],
      "execution_count": 2,
      "outputs": []
    },
    {
      "cell_type": "code",
      "metadata": {
        "id": "CQ0NmhQ6XYY0"
      },
      "source": [
        "import os\n",
        "\n",
        "os.environ['KAGGLE_USERNAME'] = \"aldionsumampouw\" # username from the json file\n",
        "os.environ['KAGGLE_KEY'] = \"5c621105978afeebbfe85ce3fa278105\" # key from the json file"
      ],
      "execution_count": 3,
      "outputs": []
    },
    {
      "cell_type": "code",
      "metadata": {
        "colab": {
          "base_uri": "https://localhost:8080/"
        },
        "id": "v9rT_zue2m5e",
        "outputId": "5294e0d1-4361-466b-e269-9796eba64f6c"
      },
      "source": [
        "!kaggle datasets download -d puneet6060/intel-image-classification"
      ],
      "execution_count": 4,
      "outputs": [
        {
          "output_type": "stream",
          "text": [
            "Downloading intel-image-classification.zip to /content\n",
            "100% 345M/346M [00:02<00:00, 183MB/s]\n",
            "100% 346M/346M [00:02<00:00, 159MB/s]\n"
          ],
          "name": "stdout"
        }
      ]
    },
    {
      "cell_type": "code",
      "metadata": {
        "id": "9KMQz47P3Swe"
      },
      "source": [
        "!unzip intel-image-classification.zip > /dev/null"
      ],
      "execution_count": 5,
      "outputs": []
    },
    {
      "cell_type": "code",
      "metadata": {
        "id": "xU0eYLMOQJPp"
      },
      "source": [
        "!rm -rf seg_test/ seg_pred/"
      ],
      "execution_count": 6,
      "outputs": []
    },
    {
      "cell_type": "code",
      "metadata": {
        "colab": {
          "base_uri": "https://localhost:8080/"
        },
        "id": "RkV1DEkVKZ4u",
        "outputId": "deed912e-523a-4916-a6b4-53a6c1a5431b"
      },
      "source": [
        "os.listdir('seg_train/seg_train/')"
      ],
      "execution_count": 7,
      "outputs": [
        {
          "output_type": "execute_result",
          "data": {
            "text/plain": [
              "['sea', 'glacier', 'mountain', 'buildings', 'forest', 'street']"
            ]
          },
          "metadata": {
            "tags": []
          },
          "execution_count": 7
        }
      ]
    },
    {
      "cell_type": "code",
      "metadata": {
        "colab": {
          "base_uri": "https://localhost:8080/"
        },
        "id": "7k0r1VyhO3CG",
        "outputId": "68dbcf7d-96dc-41e6-9293-c395b283e222"
      },
      "source": [
        "print('total mountain train images :', len(os.listdir('seg_train/seg_train/mountain')))\n",
        "print('total sea train images :', len(os.listdir('seg_train/seg_train/sea')))\n",
        "print('total buildings train images :', len(os.listdir('seg_train/seg_train/buildings')))\n",
        "print('total forest train images :', len(os.listdir('seg_train/seg_train/forest')))\n",
        "print('total glacier train images :', len(os.listdir('seg_train/seg_train/glacier')))\n",
        "print('total street train images :', len(os.listdir('seg_train/seg_train/street')))"
      ],
      "execution_count": 8,
      "outputs": [
        {
          "output_type": "stream",
          "text": [
            "total mountain train images : 2512\n",
            "total sea train images : 2274\n",
            "total buildings train images : 2191\n",
            "total forest train images : 2271\n",
            "total glacier train images : 2404\n",
            "total street train images : 2382\n"
          ],
          "name": "stdout"
        }
      ]
    },
    {
      "cell_type": "code",
      "metadata": {
        "id": "pxtpDVhjQoeX"
      },
      "source": [
        "train_dir = os.path.join('seg_train/seg_train')\n",
        "train_datagen = ImageDataGenerator(rescale=1./255,\n",
        "    zoom_range=0.1,\n",
        "    shear_range=0.2,\n",
        "    fill_mode = 'nearest',\n",
        "    validation_split=0.2) # set validation split"
      ],
      "execution_count": 9,
      "outputs": []
    },
    {
      "cell_type": "code",
      "metadata": {
        "colab": {
          "base_uri": "https://localhost:8080/"
        },
        "id": "gS93KICRQ0ZX",
        "outputId": "5c29ab6f-8cf3-488a-a94e-5adaa324cdce"
      },
      "source": [
        "train_generator = train_datagen.flow_from_directory(\n",
        "    train_dir,\n",
        "    target_size=(150, 150),\n",
        "    batch_size=8,\n",
        "    class_mode='categorical',\n",
        "    subset='training') # set as training data\n",
        "validation_generator = train_datagen.flow_from_directory(\n",
        "    train_dir, # same directory as training data\n",
        "    target_size=(150, 150),\n",
        "    batch_size=16,\n",
        "    class_mode='categorical',\n",
        "    subset='validation')"
      ],
      "execution_count": 10,
      "outputs": [
        {
          "output_type": "stream",
          "text": [
            "Found 11230 images belonging to 6 classes.\n",
            "Found 2804 images belonging to 6 classes.\n"
          ],
          "name": "stdout"
        }
      ]
    },
    {
      "cell_type": "code",
      "metadata": {
        "id": "IWzpMBoOQ6WW"
      },
      "source": [
        "model = tf.keras.models.Sequential([\n",
        "    tf.keras.layers.Conv2D(64, (3,3), activation='relu', input_shape=(150, 150, 3)),\n",
        "    tf.keras.layers.MaxPooling2D(2,2),\n",
        "    tf.keras.layers.Conv2D(32, (3,3), activation='relu'),\n",
        "    tf.keras.layers.MaxPooling2D(2,2),\n",
        "    tf.keras.layers.Dropout(0.2),  \n",
        "    tf.keras.layers.Conv2D(64, (3,3), activation='relu'), \n",
        "    tf.keras.layers.MaxPooling2D(2,2),\n",
        "    tf.keras.layers.Dropout(0.5),  \n",
        "    tf.keras.layers.Flatten(), \n",
        "    tf.keras.layers.Dense(512, activation='relu'),\n",
        "    tf.keras.layers.Dense(256, activation='relu'),\n",
        "    tf.keras.layers.Dense(6, activation='softmax')  \n",
        "])"
      ],
      "execution_count": 12,
      "outputs": []
    },
    {
      "cell_type": "code",
      "metadata": {
        "id": "GgGrY7HTRL-H"
      },
      "source": [
        "model.compile(optimizer=tf.optimizers.Adam(),\n",
        "              loss='categorical_crossentropy',\n",
        "              metrics = ['accuracy'])"
      ],
      "execution_count": 13,
      "outputs": []
    },
    {
      "cell_type": "code",
      "metadata": {
        "id": "0OznTYOvRO0b",
        "colab": {
          "base_uri": "https://localhost:8080/"
        },
        "outputId": "2cf3ae0b-ec7b-4eda-9f8a-42f97d329bbb"
      },
      "source": [
        "history = model.fit(train_generator,\n",
        "                    validation_data=validation_generator,\n",
        "                    epochs=50,batch_size = 64,\n",
        "                    callbacks=[callbacks],verbose=2)"
      ],
      "execution_count": 14,
      "outputs": [
        {
          "output_type": "stream",
          "text": [
            "Epoch 1/50\n",
            "1404/1404 - 109s - loss: 1.0589 - accuracy: 0.5776 - val_loss: 0.8579 - val_accuracy: 0.6605\n",
            "Epoch 2/50\n",
            "1404/1404 - 78s - loss: 0.8146 - accuracy: 0.6861 - val_loss: 0.7597 - val_accuracy: 0.7200\n",
            "Epoch 3/50\n",
            "1404/1404 - 77s - loss: 0.6888 - accuracy: 0.7394 - val_loss: 0.7397 - val_accuracy: 0.7372\n",
            "Epoch 4/50\n",
            "1404/1404 - 77s - loss: 0.6007 - accuracy: 0.7807 - val_loss: 0.7267 - val_accuracy: 0.7275\n",
            "Epoch 5/50\n",
            "1404/1404 - 78s - loss: 0.5550 - accuracy: 0.7989 - val_loss: 0.6138 - val_accuracy: 0.7817\n",
            "Epoch 6/50\n",
            "1404/1404 - 75s - loss: 0.5120 - accuracy: 0.8100 - val_loss: 0.5942 - val_accuracy: 0.7892\n",
            "Epoch 7/50\n",
            "1404/1404 - 75s - loss: 0.4580 - accuracy: 0.8320 - val_loss: 0.6080 - val_accuracy: 0.7885\n",
            "Epoch 8/50\n",
            "1404/1404 - 75s - loss: 0.4025 - accuracy: 0.8546 - val_loss: 0.5814 - val_accuracy: 0.7946\n",
            "Epoch 9/50\n",
            "1404/1404 - 76s - loss: 0.3854 - accuracy: 0.8620 - val_loss: 0.5781 - val_accuracy: 0.8024\n",
            "Epoch 10/50\n",
            "1404/1404 - 75s - loss: 0.3438 - accuracy: 0.8768 - val_loss: 0.5794 - val_accuracy: 0.8078\n",
            "Epoch 11/50\n",
            "1404/1404 - 75s - loss: 0.3234 - accuracy: 0.8838 - val_loss: 0.6195 - val_accuracy: 0.8024\n",
            "Epoch 12/50\n",
            "1404/1404 - 75s - loss: 0.3037 - accuracy: 0.8939 - val_loss: 0.6456 - val_accuracy: 0.8039\n",
            "Epoch 13/50\n",
            "1404/1404 - 76s - loss: 0.2824 - accuracy: 0.8974 - val_loss: 0.5671 - val_accuracy: 0.8178\n",
            "Epoch 14/50\n",
            "1404/1404 - 74s - loss: 0.2685 - accuracy: 0.9050 - val_loss: 0.7311 - val_accuracy: 0.7889\n",
            "Epoch 15/50\n",
            "1404/1404 - 73s - loss: 0.2636 - accuracy: 0.9086 - val_loss: 0.6161 - val_accuracy: 0.8106\n",
            "Epoch 16/50\n",
            "1404/1404 - 73s - loss: 0.2283 - accuracy: 0.9159 - val_loss: 0.6496 - val_accuracy: 0.8088\n",
            "Epoch 17/50\n",
            "1404/1404 - 74s - loss: 0.2359 - accuracy: 0.9165 - val_loss: 0.6461 - val_accuracy: 0.8106\n",
            "Epoch 18/50\n",
            "1404/1404 - 75s - loss: 0.2078 - accuracy: 0.9274 - val_loss: 0.7633 - val_accuracy: 0.7928\n",
            "\n",
            "Akurasi telah mencapai >92%!\n"
          ],
          "name": "stdout"
        }
      ]
    },
    {
      "cell_type": "code",
      "metadata": {
        "id": "7Cy6MY2vRzGT",
        "colab": {
          "base_uri": "https://localhost:8080/",
          "height": 295
        },
        "outputId": "02051e15-8466-4a31-cf5d-93c398b581d6"
      },
      "source": [
        "plt.plot(history.history['accuracy'])\n",
        "plt.plot(history.history['val_accuracy'])\n",
        "plt.title('Akurasi Model')\n",
        "plt.ylabel('accuracy')\n",
        "plt.xlabel('epoch')\n",
        "plt.legend(['train', 'test'], loc='upper left')\n",
        "plt.show()"
      ],
      "execution_count": 15,
      "outputs": [
        {
          "output_type": "display_data",
          "data": {
            "image/png": "[encoded data removed]",
            "text/plain": [
              "<Figure size 432x288 with 1 Axes>"
            ]
          },
          "metadata": {
            "tags": [],
            "needs_background": "light"
          }
        }
      ]
    },
    {
      "cell_type": "code",
      "metadata": {
        "id": "x3NFh0KrR4Lq",
        "colab": {
          "base_uri": "https://localhost:8080/",
          "height": 295
        },
        "outputId": "4e7eebbf-ea0c-4328-e45f-06825e525354"
      },
      "source": [
        "plt.plot(history.history['loss'])\n",
        "plt.plot(history.history['val_loss'])\n",
        "plt.title('Loss Model')\n",
        "plt.ylabel('loss')\n",
        "plt.xlabel('epoch')\n",
        "plt.legend(['train', 'test'], loc='upper left')\n",
        "plt.show()"
      ],
      "execution_count": 16,
      "outputs": [
        {
          "output_type": "display_data",
          "data": {
            "image/png": "[encoded data removed]",
            "text/plain": [
              "<Figure size 432x288 with 1 Axes>"
            ]
          },
          "metadata": {
            "tags": [],
            "needs_background": "light"
          }
        }
      ]
    },
    {
      "cell_type": "code",
      "metadata": {
        "id": "NgFs24Nmu83W",
        "colab": {
          "base_uri": "https://localhost:8080/"
        },
        "outputId": "0c2487d4-358e-4cce-979a-eda2e0812532"
      },
      "source": [
        "# Konversi model.\n",
        "converter = tf.lite.TFLiteConverter.from_keras_model(model)\n",
        "tflite_model = converter.convert()"
      ],
      "execution_count": 17,
      "outputs": [
        {
          "output_type": "stream",
          "text": [
            "INFO:tensorflow:Assets written to: /tmp/tmpcqlee7c9/assets\n"
          ],
          "name": "stdout"
        }
      ]
    },
    {
      "cell_type": "code",
      "metadata": {
        "id": "b3HnmiHuu_AU"
      },
      "source": [
        "with tf.io.gfile.GFile('model.tflite', 'wb') as f:\n",
        "  f.write(tflite_model)"
      ],
      "execution_count": 18,
      "outputs": []
    }
  ]
}