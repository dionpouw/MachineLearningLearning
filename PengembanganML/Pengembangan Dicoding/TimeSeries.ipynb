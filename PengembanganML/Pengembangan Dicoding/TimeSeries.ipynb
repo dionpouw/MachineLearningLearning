{
  "nbformat": 4,
  "nbformat_minor": 0,
  "metadata": {
    "colab": {
      "name": "SubmissionTimeSeriesDicoding.ipynb",
      "provenance": [],
      "collapsed_sections": []
    },
    "kernelspec": {
      "name": "python3",
      "display_name": "Python 3"
    },
    "language_info": {
      "name": "python"
    }
  },
  "cells": [
    {
      "cell_type": "markdown",
      "metadata": {
        "id": "XFQAy58qCLwj"
      },
      "source": [
        "**Sumber Dataset :** https://www.kaggle.com/joaoholz/brazil-weather-climate-data?select=dataset_0.csv"
      ]
    },
    {
      "cell_type": "markdown",
      "metadata": {
        "id": "UJmXbtmBBcoF"
      },
      "source": [
        "#Import Library yang digunakan"
      ]
    },
    {
      "cell_type": "code",
      "metadata": {
        "id": "M7x57SDO51uD"
      },
      "source": [
        "import numpy as np\n",
        "import pandas as pd\n",
        "from keras.layers import Dense, LSTM\n",
        "import matplotlib.pyplot as plt\n",
        "import tensorflow as tf\n",
        "from sklearn.model_selection import train_test_split"
      ],
      "execution_count": 1,
      "outputs": []
    },
    {
      "cell_type": "markdown",
      "metadata": {
        "id": "Of5yA1wxBjNs"
      },
      "source": [
        "# Pembuatan Callback\n",
        "Jika mae dibawah 0.9 akan menghentikan proses fitting\n"
      ]
    },
    {
      "cell_type": "code",
      "metadata": {
        "id": "3O05NF1d90Eu"
      },
      "source": [
        "class myCallback(tf.keras.callbacks.Callback):\n",
        "    def on_epoch_end(self, epochs, logs={}) :\n",
        "        if(logs.get('mae') <= 0.9 or logs.get('val_mae') <= 0.9) :\n",
        "            print('\\nReached 90 % accuracy so cancelling training!')\n",
        "            self.model.stop_training = True\n",
        "\n",
        "callbacks = myCallback()"
      ],
      "execution_count": 2,
      "outputs": []
    },
    {
      "cell_type": "markdown",
      "metadata": {
        "id": "6JermmvSBvrG"
      },
      "source": [
        "# *Reading Data and Cleaning Data*"
      ]
    },
    {
      "cell_type": "code",
      "metadata": {
        "id": "cU4OtGltzjZT"
      },
      "source": [
        "df = pd.read_csv('dataset1.csv', nrows=10000)"
      ],
      "execution_count": 3,
      "outputs": []
    },
    {
      "cell_type": "code",
      "metadata": {
        "id": "ozMEsN-b0u6z"
      },
      "source": [
        "df = df.drop(columns=['Unnamed: 2'])\n",
        "df = df.rename(columns={'A612 - temperatura maxima na hora ant. (aut) (°c)': 'temp'})"
      ],
      "execution_count": 4,
      "outputs": []
    },
    {
      "cell_type": "code",
      "metadata": {
        "colab": {
          "base_uri": "https://localhost:8080/",
          "height": 419
        },
        "id": "NqZkii401Rxh",
        "outputId": "5d9311fa-378d-4f53-9a3f-763f80c1b563"
      },
      "source": [
        "df"
      ],
      "execution_count": 5,
      "outputs": [
        {
          "output_type": "execute_result",
          "data": {
            "text/html": [
              "<div>\n",
              "<style scoped>\n",
              "    .dataframe tbody tr th:only-of-type {\n",
              "        vertical-align: middle;\n",
              "    }\n",
              "\n",
              "    .dataframe tbody tr th {\n",
              "        vertical-align: top;\n",
              "    }\n",
              "\n",
              "    .dataframe thead th {\n",
              "        text-align: right;\n",
              "    }\n",
              "</style>\n",
              "<table border=\"1\" class=\"dataframe\">\n",
              "  <thead>\n",
              "    <tr style=\"text-align: right;\">\n",
              "      <th></th>\n",
              "      <th>date_time</th>\n",
              "      <th>temp</th>\n",
              "    </tr>\n",
              "  </thead>\n",
              "  <tbody>\n",
              "    <tr>\n",
              "      <th>0</th>\n",
              "      <td>11/4/2006 1:00</td>\n",
              "      <td>23.9</td>\n",
              "    </tr>\n",
              "    <tr>\n",
              "      <th>1</th>\n",
              "      <td>11/4/2006 2:00</td>\n",
              "      <td>23.6</td>\n",
              "    </tr>\n",
              "    <tr>\n",
              "      <th>2</th>\n",
              "      <td>11/4/2006 3:00</td>\n",
              "      <td>23.6</td>\n",
              "    </tr>\n",
              "    <tr>\n",
              "      <th>3</th>\n",
              "      <td>11/4/2006 4:00</td>\n",
              "      <td>23.7</td>\n",
              "    </tr>\n",
              "    <tr>\n",
              "      <th>4</th>\n",
              "      <td>11/4/2006 5:00</td>\n",
              "      <td>23.6</td>\n",
              "    </tr>\n",
              "    <tr>\n",
              "      <th>...</th>\n",
              "      <td>...</td>\n",
              "      <td>...</td>\n",
              "    </tr>\n",
              "    <tr>\n",
              "      <th>9995</th>\n",
              "      <td>12/25/2007 12:00</td>\n",
              "      <td>28.5</td>\n",
              "    </tr>\n",
              "    <tr>\n",
              "      <th>9996</th>\n",
              "      <td>12/25/2007 13:00</td>\n",
              "      <td>28.6</td>\n",
              "    </tr>\n",
              "    <tr>\n",
              "      <th>9997</th>\n",
              "      <td>12/25/2007 14:00</td>\n",
              "      <td>27.2</td>\n",
              "    </tr>\n",
              "    <tr>\n",
              "      <th>9998</th>\n",
              "      <td>12/25/2007 15:00</td>\n",
              "      <td>29.5</td>\n",
              "    </tr>\n",
              "    <tr>\n",
              "      <th>9999</th>\n",
              "      <td>12/25/2007 16:00</td>\n",
              "      <td>29.9</td>\n",
              "    </tr>\n",
              "  </tbody>\n",
              "</table>\n",
              "<p>10000 rows × 2 columns</p>\n",
              "</div>"
            ],
            "text/plain": [
              "             date_time  temp\n",
              "0       11/4/2006 1:00  23.9\n",
              "1       11/4/2006 2:00  23.6\n",
              "2       11/4/2006 3:00  23.6\n",
              "3       11/4/2006 4:00  23.7\n",
              "4       11/4/2006 5:00  23.6\n",
              "...                ...   ...\n",
              "9995  12/25/2007 12:00  28.5\n",
              "9996  12/25/2007 13:00  28.6\n",
              "9997  12/25/2007 14:00  27.2\n",
              "9998  12/25/2007 15:00  29.5\n",
              "9999  12/25/2007 16:00  29.9\n",
              "\n",
              "[10000 rows x 2 columns]"
            ]
          },
          "metadata": {
            "tags": []
          },
          "execution_count": 5
        }
      ]
    },
    {
      "cell_type": "code",
      "metadata": {
        "colab": {
          "base_uri": "https://localhost:8080/"
        },
        "id": "FCVSPPDz1bKB",
        "outputId": "4cd8bc8f-8dcb-4e30-d175-97191e2801da"
      },
      "source": [
        "df.isnull().sum()"
      ],
      "execution_count": 6,
      "outputs": [
        {
          "output_type": "execute_result",
          "data": {
            "text/plain": [
              "date_time    0\n",
              "temp         0\n",
              "dtype: int64"
            ]
          },
          "metadata": {
            "tags": []
          },
          "execution_count": 6
        }
      ]
    },
    {
      "cell_type": "markdown",
      "metadata": {
        "id": "Vb6EEdeaB18V"
      },
      "source": [
        "# Pre-Processing Data"
      ]
    },
    {
      "cell_type": "code",
      "metadata": {
        "id": "0zRUBdds1epL"
      },
      "source": [
        "temp = df['temp'].values\n",
        "date = df['date_time'].values"
      ],
      "execution_count": 7,
      "outputs": []
    },
    {
      "cell_type": "code",
      "metadata": {
        "id": "3vAMtqsp_sE2"
      },
      "source": [
        "x_train, x_valid, y_train, y_valid = train_test_split(temp, date, train_size=0.8, test_size = 0.2, shuffle = False )"
      ],
      "execution_count": 8,
      "outputs": []
    },
    {
      "cell_type": "code",
      "metadata": {
        "colab": {
          "base_uri": "https://localhost:8080/"
        },
        "id": "O3RL6kLGFDnR",
        "outputId": "9ea68bbd-9764-4bb7-e1da-77b25f1b7ca4"
      },
      "source": [
        "print('Total Data Train : ',len(x_train))\n",
        "print('Total Data Validation : ',len(x_valid))"
      ],
      "execution_count": 9,
      "outputs": [
        {
          "output_type": "stream",
          "text": [
            "Total Data Train :  8000\n",
            "Total Data Validation :  2000\n"
          ],
          "name": "stdout"
        }
      ]
    },
    {
      "cell_type": "markdown",
      "metadata": {
        "id": "VL2uW-82B7aL"
      },
      "source": [
        "# Pembuatan Model"
      ]
    },
    {
      "cell_type": "code",
      "metadata": {
        "id": "IQP9rS9vFrJz"
      },
      "source": [
        "def windowed_dataset(series, window_size, batch_size, shuffle_buffer):\n",
        "    series = tf.expand_dims(series, axis=-1)\n",
        "    ds = tf.data.Dataset.from_tensor_slices(series)\n",
        "    ds = ds.window(window_size + 1, shift=1, drop_remainder=True)\n",
        "    ds = ds.flat_map(lambda w: w.batch(window_size + 1))\n",
        "    ds = ds.shuffle(shuffle_buffer)\n",
        "    ds = ds.map(lambda w: (w[:-1], w[-1:]))\n",
        "    return ds.batch(batch_size).prefetch(1)"
      ],
      "execution_count": 10,
      "outputs": []
    },
    {
      "cell_type": "code",
      "metadata": {
        "id": "_zJD0SqgFsFf"
      },
      "source": [
        "train_set = windowed_dataset(x_train, window_size=64, batch_size=200, shuffle_buffer=1000)\n",
        "val_set = windowed_dataset(x_valid, window_size=64, batch_size=200, shuffle_buffer=1000)\n",
        "\n",
        "model = tf.keras.models.Sequential([\n",
        "  tf.keras.layers.LSTM(64, return_sequences=True),\n",
        "  tf.keras.layers.LSTM(64),\n",
        "  tf.keras.layers.Dense(30, activation=\"relu\"),\n",
        "  tf.keras.layers.Dropout(0.2),\n",
        "  tf.keras.layers.Dense(10, activation=\"relu\"),\n",
        "  tf.keras.layers.Dropout(0.5),\n",
        "  tf.keras.layers.Dense(1),\n",
        "])"
      ],
      "execution_count": 11,
      "outputs": []
    },
    {
      "cell_type": "markdown",
      "metadata": {
        "id": "c-F9iLgkB-6N"
      },
      "source": [
        "# Fitting *Model*"
      ]
    },
    {
      "cell_type": "code",
      "metadata": {
        "colab": {
          "base_uri": "https://localhost:8080/"
        },
        "id": "fYNVhr-qGBq7",
        "outputId": "888acf0b-4947-44c9-d558-5cffdc058080"
      },
      "source": [
        "optimizer = tf.keras.optimizers.SGD(learning_rate=0.01, momentum=0.9)\n",
        "model.compile(loss=tf.keras.losses.Huber(),\n",
        "              optimizer=optimizer,\n",
        "              metrics=[\"mae\"])\n",
        "history = model.fit(train_set, epochs=50, \n",
        "                    batch_size=64,\n",
        "                    validation_data = val_set, \n",
        "                    callbacks=[callbacks],\n",
        "                    shuffle=False)"
      ],
      "execution_count": 12,
      "outputs": [
        {
          "output_type": "stream",
          "text": [
            "Epoch 1/50\n",
            "40/40 [==============================] - 14s 257ms/step - loss: 13.6947 - mae: 14.1873 - val_loss: 8.9950 - val_mae: 9.4943\n",
            "Epoch 2/50\n",
            "40/40 [==============================] - 9s 230ms/step - loss: 8.1051 - mae: 8.5942 - val_loss: 5.2650 - val_mae: 5.7604\n",
            "Epoch 3/50\n",
            "40/40 [==============================] - 10s 233ms/step - loss: 7.2003 - mae: 7.6872 - val_loss: 5.9929 - val_mae: 6.4903\n",
            "Epoch 4/50\n",
            "40/40 [==============================] - 10s 234ms/step - loss: 6.6567 - mae: 7.1414 - val_loss: 4.6419 - val_mae: 5.1371\n",
            "Epoch 5/50\n",
            "40/40 [==============================] - 9s 233ms/step - loss: 6.2049 - mae: 6.6896 - val_loss: 5.3844 - val_mae: 5.8809\n",
            "Epoch 6/50\n",
            "40/40 [==============================] - 9s 233ms/step - loss: 5.7320 - mae: 6.2153 - val_loss: 4.2186 - val_mae: 4.7123\n",
            "Epoch 7/50\n",
            "40/40 [==============================] - 9s 231ms/step - loss: 5.2948 - mae: 5.7769 - val_loss: 4.2217 - val_mae: 4.7155\n",
            "Epoch 8/50\n",
            "40/40 [==============================] - 9s 231ms/step - loss: 4.8940 - mae: 5.3720 - val_loss: 3.7262 - val_mae: 4.2195\n",
            "Epoch 9/50\n",
            "40/40 [==============================] - 9s 232ms/step - loss: 4.4420 - mae: 4.9200 - val_loss: 1.4036 - val_mae: 1.8207\n",
            "Epoch 10/50\n",
            "40/40 [==============================] - 9s 232ms/step - loss: 4.0501 - mae: 4.5246 - val_loss: 2.0678 - val_mae: 2.5512\n",
            "Epoch 11/50\n",
            "40/40 [==============================] - 9s 232ms/step - loss: 3.5457 - mae: 4.0163 - val_loss: 1.1492 - val_mae: 1.5464\n",
            "Epoch 12/50\n",
            "40/40 [==============================] - 9s 233ms/step - loss: 3.1687 - mae: 3.6360 - val_loss: 3.7141 - val_mae: 4.2112\n",
            "Epoch 13/50\n",
            "40/40 [==============================] - 9s 232ms/step - loss: 2.9909 - mae: 3.4587 - val_loss: 1.1808 - val_mae: 1.6067\n",
            "Epoch 14/50\n",
            "40/40 [==============================] - 9s 230ms/step - loss: 2.5540 - mae: 3.0150 - val_loss: 1.8370 - val_mae: 2.3235\n",
            "Epoch 15/50\n",
            "40/40 [==============================] - 9s 232ms/step - loss: 2.3171 - mae: 2.7739 - val_loss: 0.9568 - val_mae: 1.3484\n",
            "Epoch 16/50\n",
            "40/40 [==============================] - 9s 232ms/step - loss: 2.0246 - mae: 2.4763 - val_loss: 1.1656 - val_mae: 1.6137\n",
            "Epoch 17/50\n",
            "40/40 [==============================] - 9s 232ms/step - loss: 1.9020 - mae: 2.3522 - val_loss: 1.4152 - val_mae: 1.8797\n",
            "Epoch 18/50\n",
            "40/40 [==============================] - 9s 232ms/step - loss: 1.6868 - mae: 2.1315 - val_loss: 0.8163 - val_mae: 1.2173\n",
            "Epoch 19/50\n",
            "40/40 [==============================] - 9s 231ms/step - loss: 1.5964 - mae: 2.0392 - val_loss: 1.7337 - val_mae: 2.2107\n",
            "Epoch 20/50\n",
            "40/40 [==============================] - 9s 233ms/step - loss: 1.4959 - mae: 1.9338 - val_loss: 0.8731 - val_mae: 1.3013\n",
            "Epoch 21/50\n",
            "40/40 [==============================] - 9s 230ms/step - loss: 1.4564 - mae: 1.8918 - val_loss: 1.9446 - val_mae: 2.4309\n",
            "Epoch 22/50\n",
            "40/40 [==============================] - 9s 231ms/step - loss: 1.3871 - mae: 1.8194 - val_loss: 1.5038 - val_mae: 1.9856\n",
            "Epoch 23/50\n",
            "40/40 [==============================] - 9s 231ms/step - loss: 1.3808 - mae: 1.8154 - val_loss: 0.9923 - val_mae: 1.4293\n",
            "Epoch 24/50\n",
            "40/40 [==============================] - 9s 230ms/step - loss: 1.1524 - mae: 1.5680 - val_loss: 0.7592 - val_mae: 1.1872\n",
            "Epoch 25/50\n",
            "40/40 [==============================] - 9s 231ms/step - loss: 1.0855 - mae: 1.4972 - val_loss: 0.6144 - val_mae: 1.0029\n",
            "Epoch 26/50\n",
            "40/40 [==============================] - 9s 230ms/step - loss: 1.1165 - mae: 1.5363 - val_loss: 0.6101 - val_mae: 1.0011\n",
            "Epoch 27/50\n",
            "40/40 [==============================] - 9s 232ms/step - loss: 1.0374 - mae: 1.4494 - val_loss: 0.6959 - val_mae: 1.0951\n",
            "Epoch 28/50\n",
            "40/40 [==============================] - 9s 232ms/step - loss: 1.0150 - mae: 1.4230 - val_loss: 0.7804 - val_mae: 1.2136\n",
            "Epoch 29/50\n",
            "40/40 [==============================] - 9s 231ms/step - loss: 1.1241 - mae: 1.5462 - val_loss: 0.3807 - val_mae: 0.7014\n",
            "\n",
            "Reached 90 % accuracy so cancelling training!\n"
          ],
          "name": "stdout"
        }
      ]
    },
    {
      "cell_type": "markdown",
      "metadata": {
        "id": "G6B4f8JqCE8-"
      },
      "source": [
        "# Pembuatan Plotting"
      ]
    },
    {
      "cell_type": "code",
      "metadata": {
        "colab": {
          "base_uri": "https://localhost:8080/",
          "height": 573
        },
        "id": "qjoJOYIy_E4P",
        "outputId": "ed67fb7f-3c2d-4c90-d4bd-fb671fa3704f"
      },
      "source": [
        "#summarize history for mae \n",
        "plt.figure(1)\n",
        "plt.plot(history.history['mae'])\n",
        "plt.plot(history.history['val_mae'])\n",
        "plt.title('model mae')\n",
        "plt.ylabel('mae')\n",
        "plt.xlabel('epoch')\n",
        "plt.legend(['train', 'test'], loc='upper left')\n",
        "plt.show()\n",
        "\n",
        "# summarize history for loss\n",
        "plt.figure(1)\n",
        "plt.plot(history.history['loss'])\n",
        "plt.plot(history.history['val_loss'])\n",
        "plt.title('model loss')\n",
        "plt.ylabel('loss')\n",
        "plt.xlabel('epoch')\n",
        "plt.legend(['train', 'test'], loc='upper left')\n",
        "plt.show()"
      ],
      "execution_count": 14,
      "outputs": [
        {
          "output_type": "display_data",
          "data": {
            "image/png": "[encoded data removed]",
            "text/plain": [
              "<Figure size 432x288 with 1 Axes>"
            ]
          },
          "metadata": {
            "tags": [],
            "needs_background": "light"
          }
        },
        {
          "output_type": "display_data",
          "data": {
            "image/png": "[encoded data removed]",
            "text/plain": [
              "<Figure size 432x288 with 1 Axes>"
            ]
          },
          "metadata": {
            "tags": [],
            "needs_background": "light"
          }
        }
      ]
    }
  ]
}