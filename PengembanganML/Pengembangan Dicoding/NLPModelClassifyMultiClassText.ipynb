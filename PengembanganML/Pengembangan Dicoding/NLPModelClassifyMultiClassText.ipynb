{
  "nbformat": 4,
  "nbformat_minor": 0,
  "metadata": {
    "colab": {
      "name": "SubmissionProyek1PengembanganMachineLearning.ipynb",
      "provenance": []
    },
    "kernelspec": {
      "name": "python3",
      "display_name": "Python 3"
    },
    "language_info": {
      "name": "python"
    },
    "accelerator": "GPU"
  },
  "cells": [
    {
      "cell_type": "code",
      "metadata": {
        "id": "e8L9KCb3LTpZ"
      },
      "source": [
        "import pandas as pd\n",
        "from sklearn.model_selection import train_test_split\n",
        "from tensorflow.keras.preprocessing.text import Tokenizer\n",
        "from tensorflow.keras.preprocessing.sequence import pad_sequences\n",
        "import tensorflow as tf\n",
        "import matplotlib.pyplot as plt"
      ],
      "execution_count": 1,
      "outputs": []
    },
    {
      "cell_type": "code",
      "metadata": {
        "id": "8fHPNdIhUsWV"
      },
      "source": [
        "class myCallback(tf.keras.callbacks.Callback):\n",
        "  def on_epoch_end(self, epoch, logs={}):\n",
        "    if(logs.get('accuracy')>0.9):\n",
        "      print(\"\\nAkurasi telah mencapai >90%!\")\n",
        "      self.model.stop_training = True\n",
        "callbacks = myCallback()"
      ],
      "execution_count": 2,
      "outputs": []
    },
    {
      "cell_type": "code",
      "metadata": {
        "colab": {
          "base_uri": "https://localhost:8080/"
        },
        "id": "g6dyGUqIK9Lk",
        "outputId": "d30460e6-7c47-4f87-ec6b-9250c192babf"
      },
      "source": [
        "from google.colab import drive\n",
        "drive.mount('/content/gdrive')"
      ],
      "execution_count": 3,
      "outputs": [
        {
          "output_type": "stream",
          "text": [
            "Drive already mounted at /content/gdrive; to attempt to forcibly remount, call drive.mount(\"/content/gdrive\", force_remount=True).\n"
          ],
          "name": "stdout"
        }
      ]
    },
    {
      "cell_type": "code",
      "metadata": {
        "colab": {
          "base_uri": "https://localhost:8080/"
        },
        "id": "8b9hrTrOLG7f",
        "outputId": "a4cb3a3f-affb-4830-9e11-53e3af679681"
      },
      "source": [
        "!unzip gdrive/My\\ Drive/data/DBP_wiki_data.csv.zip > /dev/null\n",
        "\"\"\"\n",
        "Dataset yang digunakan berasal dari laman berikut:\n",
        "https://www.kaggle.com/danofer/dbpedia-classes?select=DBP_wiki_data.csv\n",
        "\"\"\""
      ],
      "execution_count": 4,
      "outputs": [
        {
          "output_type": "stream",
          "text": [
            "replace DBP_wiki_data.csv? [y]es, [n]o, [A]ll, [N]one, [r]ename: y\n"
          ],
          "name": "stdout"
        }
      ]
    },
    {
      "cell_type": "code",
      "metadata": {
        "id": "HH6Uedk7LQlD"
      },
      "source": [
        "df = pd.read_csv('DBP_wiki_data.csv')"
      ],
      "execution_count": 5,
      "outputs": []
    },
    {
      "cell_type": "code",
      "metadata": {
        "colab": {
          "base_uri": "https://localhost:8080/",
          "height": 204
        },
        "id": "7d5ShqSLLYCm",
        "outputId": "20f5fdcc-16d8-49a7-b732-abdd0695e860"
      },
      "source": [
        "df.head()"
      ],
      "execution_count": 6,
      "outputs": [
        {
          "output_type": "execute_result",
          "data": {
            "text/html": [
              "<div>\n",
              "<style scoped>\n",
              "    .dataframe tbody tr th:only-of-type {\n",
              "        vertical-align: middle;\n",
              "    }\n",
              "\n",
              "    .dataframe tbody tr th {\n",
              "        vertical-align: top;\n",
              "    }\n",
              "\n",
              "    .dataframe thead th {\n",
              "        text-align: right;\n",
              "    }\n",
              "</style>\n",
              "<table border=\"1\" class=\"dataframe\">\n",
              "  <thead>\n",
              "    <tr style=\"text-align: right;\">\n",
              "      <th></th>\n",
              "      <th>text</th>\n",
              "      <th>l1</th>\n",
              "      <th>l2</th>\n",
              "      <th>l3</th>\n",
              "      <th>wiki_name</th>\n",
              "      <th>word_count</th>\n",
              "    </tr>\n",
              "  </thead>\n",
              "  <tbody>\n",
              "    <tr>\n",
              "      <th>0</th>\n",
              "      <td>The 1994 Mindoro earthquake occurred on Novemb...</td>\n",
              "      <td>Event</td>\n",
              "      <td>NaturalEvent</td>\n",
              "      <td>Earthquake</td>\n",
              "      <td>1994_Mindoro_earthquake</td>\n",
              "      <td>59</td>\n",
              "    </tr>\n",
              "    <tr>\n",
              "      <th>1</th>\n",
              "      <td>The 1917 Bali earthquake occurred at 06:50 loc...</td>\n",
              "      <td>Event</td>\n",
              "      <td>NaturalEvent</td>\n",
              "      <td>Earthquake</td>\n",
              "      <td>1917_Bali_earthquake</td>\n",
              "      <td>68</td>\n",
              "    </tr>\n",
              "    <tr>\n",
              "      <th>2</th>\n",
              "      <td>The 1941 Colima earthquake occurred on April 1...</td>\n",
              "      <td>Event</td>\n",
              "      <td>NaturalEvent</td>\n",
              "      <td>Earthquake</td>\n",
              "      <td>1941_Colima_earthquake</td>\n",
              "      <td>194</td>\n",
              "    </tr>\n",
              "    <tr>\n",
              "      <th>3</th>\n",
              "      <td>The 1983 Coalinga earthquake occurred on May 2...</td>\n",
              "      <td>Event</td>\n",
              "      <td>NaturalEvent</td>\n",
              "      <td>Earthquake</td>\n",
              "      <td>1983_Coalinga_earthquake</td>\n",
              "      <td>98</td>\n",
              "    </tr>\n",
              "    <tr>\n",
              "      <th>4</th>\n",
              "      <td>The 2013 Bushehr earthquake occurred with a mo...</td>\n",
              "      <td>Event</td>\n",
              "      <td>NaturalEvent</td>\n",
              "      <td>Earthquake</td>\n",
              "      <td>2013_Bushehr_earthquake</td>\n",
              "      <td>61</td>\n",
              "    </tr>\n",
              "  </tbody>\n",
              "</table>\n",
              "</div>"
            ],
            "text/plain": [
              "                                                text  ... word_count\n",
              "0  The 1994 Mindoro earthquake occurred on Novemb...  ...         59\n",
              "1  The 1917 Bali earthquake occurred at 06:50 loc...  ...         68\n",
              "2  The 1941 Colima earthquake occurred on April 1...  ...        194\n",
              "3  The 1983 Coalinga earthquake occurred on May 2...  ...         98\n",
              "4  The 2013 Bushehr earthquake occurred with a mo...  ...         61\n",
              "\n",
              "[5 rows x 6 columns]"
            ]
          },
          "metadata": {
            "tags": []
          },
          "execution_count": 6
        }
      ]
    },
    {
      "cell_type": "code",
      "metadata": {
        "id": "ZNg1NxBOLbRp"
      },
      "source": [
        "df = df.drop(columns=['wiki_name','word_count','l2','l3'])"
      ],
      "execution_count": 7,
      "outputs": []
    },
    {
      "cell_type": "code",
      "metadata": {
        "colab": {
          "base_uri": "https://localhost:8080/",
          "height": 204
        },
        "id": "yr9QxDYnLgN5",
        "outputId": "d4d050fa-049e-4ab7-ac8e-7e676cdb3ccd"
      },
      "source": [
        "df.head()"
      ],
      "execution_count": 8,
      "outputs": [
        {
          "output_type": "execute_result",
          "data": {
            "text/html": [
              "<div>\n",
              "<style scoped>\n",
              "    .dataframe tbody tr th:only-of-type {\n",
              "        vertical-align: middle;\n",
              "    }\n",
              "\n",
              "    .dataframe tbody tr th {\n",
              "        vertical-align: top;\n",
              "    }\n",
              "\n",
              "    .dataframe thead th {\n",
              "        text-align: right;\n",
              "    }\n",
              "</style>\n",
              "<table border=\"1\" class=\"dataframe\">\n",
              "  <thead>\n",
              "    <tr style=\"text-align: right;\">\n",
              "      <th></th>\n",
              "      <th>text</th>\n",
              "      <th>l1</th>\n",
              "    </tr>\n",
              "  </thead>\n",
              "  <tbody>\n",
              "    <tr>\n",
              "      <th>0</th>\n",
              "      <td>The 1994 Mindoro earthquake occurred on Novemb...</td>\n",
              "      <td>Event</td>\n",
              "    </tr>\n",
              "    <tr>\n",
              "      <th>1</th>\n",
              "      <td>The 1917 Bali earthquake occurred at 06:50 loc...</td>\n",
              "      <td>Event</td>\n",
              "    </tr>\n",
              "    <tr>\n",
              "      <th>2</th>\n",
              "      <td>The 1941 Colima earthquake occurred on April 1...</td>\n",
              "      <td>Event</td>\n",
              "    </tr>\n",
              "    <tr>\n",
              "      <th>3</th>\n",
              "      <td>The 1983 Coalinga earthquake occurred on May 2...</td>\n",
              "      <td>Event</td>\n",
              "    </tr>\n",
              "    <tr>\n",
              "      <th>4</th>\n",
              "      <td>The 2013 Bushehr earthquake occurred with a mo...</td>\n",
              "      <td>Event</td>\n",
              "    </tr>\n",
              "  </tbody>\n",
              "</table>\n",
              "</div>"
            ],
            "text/plain": [
              "                                                text     l1\n",
              "0  The 1994 Mindoro earthquake occurred on Novemb...  Event\n",
              "1  The 1917 Bali earthquake occurred at 06:50 loc...  Event\n",
              "2  The 1941 Colima earthquake occurred on April 1...  Event\n",
              "3  The 1983 Coalinga earthquake occurred on May 2...  Event\n",
              "4  The 2013 Bushehr earthquake occurred with a mo...  Event"
            ]
          },
          "metadata": {
            "tags": []
          },
          "execution_count": 8
        }
      ]
    },
    {
      "cell_type": "code",
      "metadata": {
        "colab": {
          "base_uri": "https://localhost:8080/",
          "height": 589
        },
        "id": "ddNrWY8mOQ_T",
        "outputId": "926ee355-008b-480e-ee7b-683d02f574de"
      },
      "source": [
        "category = pd.get_dummies(df.l1)\n",
        "df_baru = pd.concat([df, category], axis=1)\n",
        "df_baru = df_baru.drop(columns='l1')\n",
        "df_baru"
      ],
      "execution_count": 9,
      "outputs": [
        {
          "output_type": "execute_result",
          "data": {
            "text/html": [
              "<div>\n",
              "<style scoped>\n",
              "    .dataframe tbody tr th:only-of-type {\n",
              "        vertical-align: middle;\n",
              "    }\n",
              "\n",
              "    .dataframe tbody tr th {\n",
              "        vertical-align: top;\n",
              "    }\n",
              "\n",
              "    .dataframe thead th {\n",
              "        text-align: right;\n",
              "    }\n",
              "</style>\n",
              "<table border=\"1\" class=\"dataframe\">\n",
              "  <thead>\n",
              "    <tr style=\"text-align: right;\">\n",
              "      <th></th>\n",
              "      <th>text</th>\n",
              "      <th>Agent</th>\n",
              "      <th>Device</th>\n",
              "      <th>Event</th>\n",
              "      <th>Place</th>\n",
              "      <th>Species</th>\n",
              "      <th>SportsSeason</th>\n",
              "      <th>TopicalConcept</th>\n",
              "      <th>UnitOfWork</th>\n",
              "      <th>Work</th>\n",
              "    </tr>\n",
              "  </thead>\n",
              "  <tbody>\n",
              "    <tr>\n",
              "      <th>0</th>\n",
              "      <td>The 1994 Mindoro earthquake occurred on Novemb...</td>\n",
              "      <td>0</td>\n",
              "      <td>0</td>\n",
              "      <td>1</td>\n",
              "      <td>0</td>\n",
              "      <td>0</td>\n",
              "      <td>0</td>\n",
              "      <td>0</td>\n",
              "      <td>0</td>\n",
              "      <td>0</td>\n",
              "    </tr>\n",
              "    <tr>\n",
              "      <th>1</th>\n",
              "      <td>The 1917 Bali earthquake occurred at 06:50 loc...</td>\n",
              "      <td>0</td>\n",
              "      <td>0</td>\n",
              "      <td>1</td>\n",
              "      <td>0</td>\n",
              "      <td>0</td>\n",
              "      <td>0</td>\n",
              "      <td>0</td>\n",
              "      <td>0</td>\n",
              "      <td>0</td>\n",
              "    </tr>\n",
              "    <tr>\n",
              "      <th>2</th>\n",
              "      <td>The 1941 Colima earthquake occurred on April 1...</td>\n",
              "      <td>0</td>\n",
              "      <td>0</td>\n",
              "      <td>1</td>\n",
              "      <td>0</td>\n",
              "      <td>0</td>\n",
              "      <td>0</td>\n",
              "      <td>0</td>\n",
              "      <td>0</td>\n",
              "      <td>0</td>\n",
              "    </tr>\n",
              "    <tr>\n",
              "      <th>3</th>\n",
              "      <td>The 1983 Coalinga earthquake occurred on May 2...</td>\n",
              "      <td>0</td>\n",
              "      <td>0</td>\n",
              "      <td>1</td>\n",
              "      <td>0</td>\n",
              "      <td>0</td>\n",
              "      <td>0</td>\n",
              "      <td>0</td>\n",
              "      <td>0</td>\n",
              "      <td>0</td>\n",
              "    </tr>\n",
              "    <tr>\n",
              "      <th>4</th>\n",
              "      <td>The 2013 Bushehr earthquake occurred with a mo...</td>\n",
              "      <td>0</td>\n",
              "      <td>0</td>\n",
              "      <td>1</td>\n",
              "      <td>0</td>\n",
              "      <td>0</td>\n",
              "      <td>0</td>\n",
              "      <td>0</td>\n",
              "      <td>0</td>\n",
              "      <td>0</td>\n",
              "    </tr>\n",
              "    <tr>\n",
              "      <th>...</th>\n",
              "      <td>...</td>\n",
              "      <td>...</td>\n",
              "      <td>...</td>\n",
              "      <td>...</td>\n",
              "      <td>...</td>\n",
              "      <td>...</td>\n",
              "      <td>...</td>\n",
              "      <td>...</td>\n",
              "      <td>...</td>\n",
              "      <td>...</td>\n",
              "    </tr>\n",
              "    <tr>\n",
              "      <th>342776</th>\n",
              "      <td>WCSH is the NBC-affiliated television station ...</td>\n",
              "      <td>1</td>\n",
              "      <td>0</td>\n",
              "      <td>0</td>\n",
              "      <td>0</td>\n",
              "      <td>0</td>\n",
              "      <td>0</td>\n",
              "      <td>0</td>\n",
              "      <td>0</td>\n",
              "      <td>0</td>\n",
              "    </tr>\n",
              "    <tr>\n",
              "      <th>342777</th>\n",
              "      <td>Al Jazeera America (AJAM) was an American basi...</td>\n",
              "      <td>1</td>\n",
              "      <td>0</td>\n",
              "      <td>0</td>\n",
              "      <td>0</td>\n",
              "      <td>0</td>\n",
              "      <td>0</td>\n",
              "      <td>0</td>\n",
              "      <td>0</td>\n",
              "      <td>0</td>\n",
              "    </tr>\n",
              "    <tr>\n",
              "      <th>342778</th>\n",
              "      <td>CJOH-DT, VHF channel 13, is a CTV owned-and-op...</td>\n",
              "      <td>1</td>\n",
              "      <td>0</td>\n",
              "      <td>0</td>\n",
              "      <td>0</td>\n",
              "      <td>0</td>\n",
              "      <td>0</td>\n",
              "      <td>0</td>\n",
              "      <td>0</td>\n",
              "      <td>0</td>\n",
              "    </tr>\n",
              "    <tr>\n",
              "      <th>342779</th>\n",
              "      <td>NTTV (North Texas Television) is a student tel...</td>\n",
              "      <td>1</td>\n",
              "      <td>0</td>\n",
              "      <td>0</td>\n",
              "      <td>0</td>\n",
              "      <td>0</td>\n",
              "      <td>0</td>\n",
              "      <td>0</td>\n",
              "      <td>0</td>\n",
              "      <td>0</td>\n",
              "    </tr>\n",
              "    <tr>\n",
              "      <th>342780</th>\n",
              "      <td>WVIZ (Digital channel 26, PSIP 25.1), is a PBS...</td>\n",
              "      <td>1</td>\n",
              "      <td>0</td>\n",
              "      <td>0</td>\n",
              "      <td>0</td>\n",
              "      <td>0</td>\n",
              "      <td>0</td>\n",
              "      <td>0</td>\n",
              "      <td>0</td>\n",
              "      <td>0</td>\n",
              "    </tr>\n",
              "  </tbody>\n",
              "</table>\n",
              "<p>342781 rows × 10 columns</p>\n",
              "</div>"
            ],
            "text/plain": [
              "                                                     text  ...  Work\n",
              "0       The 1994 Mindoro earthquake occurred on Novemb...  ...     0\n",
              "1       The 1917 Bali earthquake occurred at 06:50 loc...  ...     0\n",
              "2       The 1941 Colima earthquake occurred on April 1...  ...     0\n",
              "3       The 1983 Coalinga earthquake occurred on May 2...  ...     0\n",
              "4       The 2013 Bushehr earthquake occurred with a mo...  ...     0\n",
              "...                                                   ...  ...   ...\n",
              "342776  WCSH is the NBC-affiliated television station ...  ...     0\n",
              "342777  Al Jazeera America (AJAM) was an American basi...  ...     0\n",
              "342778  CJOH-DT, VHF channel 13, is a CTV owned-and-op...  ...     0\n",
              "342779  NTTV (North Texas Television) is a student tel...  ...     0\n",
              "342780  WVIZ (Digital channel 26, PSIP 25.1), is a PBS...  ...     0\n",
              "\n",
              "[342781 rows x 10 columns]"
            ]
          },
          "metadata": {
            "tags": []
          },
          "execution_count": 9
        }
      ]
    },
    {
      "cell_type": "code",
      "metadata": {
        "id": "lFlBSiorOh9v"
      },
      "source": [
        "text_description = df_baru['text'].values\n",
        "label = df_baru[['Agent', 'Device', 'Event', 'Place', 'Species','SportsSeason','TopicalConcept','UnitOfWork','Work']].values"
      ],
      "execution_count": 10,
      "outputs": []
    },
    {
      "cell_type": "code",
      "metadata": {
        "id": "oDhUrr_4O_Sh"
      },
      "source": [
        "text_train, text_test, label_train, label_test = train_test_split(text_description, label, test_size=0.2)"
      ],
      "execution_count": 11,
      "outputs": []
    },
    {
      "cell_type": "code",
      "metadata": {
        "id": "qzG4ZbuGPMY4"
      },
      "source": [
        "tokenizer = Tokenizer(num_words=5000, oov_token='-')\n",
        "tokenizer.fit_on_texts(text_train) \n",
        "tokenizer.fit_on_texts(text_test)\n",
        " \n",
        "sekuens_latih = tokenizer.texts_to_sequences(text_train)\n",
        "sekuens_test = tokenizer.texts_to_sequences(text_test)\n",
        " \n",
        "padded_latih = pad_sequences(sekuens_latih) \n",
        "padded_test = pad_sequences(sekuens_test)"
      ],
      "execution_count": 12,
      "outputs": []
    },
    {
      "cell_type": "code",
      "metadata": {
        "id": "OS8_NE2jQgBy"
      },
      "source": [
        "model = tf.keras.Sequential([\n",
        "    tf.keras.layers.Embedding(input_dim=5000, output_dim=300),\n",
        "    tf.keras.layers.LSTM(64),\n",
        "    tf.keras.layers.Dense(128, activation='relu'),\n",
        "    tf.keras.layers.Dropout(0.2),\n",
        "    tf.keras.layers.Dense(64, activation='relu'),\n",
        "    tf.keras.layers.Dropout(0.5),\n",
        "    tf.keras.layers.Dense(9, activation='softmax')\n",
        "])\n",
        "model.compile(loss='categorical_crossentropy',optimizer='adam',metrics=['accuracy'])"
      ],
      "execution_count": 13,
      "outputs": []
    },
    {
      "cell_type": "code",
      "metadata": {
        "colab": {
          "base_uri": "https://localhost:8080/"
        },
        "id": "OPhveLXJQpdo",
        "outputId": "8e297dec-3343-4037-bad4-872c99fe5852"
      },
      "source": [
        "num_epochs = 30\n",
        "history = model.fit(padded_latih, label_train, epochs=num_epochs,\n",
        "                    batch_size=128,validation_data=(padded_test, label_test), \n",
        "                    verbose=2,callbacks=[callbacks])"
      ],
      "execution_count": 14,
      "outputs": [
        {
          "output_type": "stream",
          "text": [
            "Epoch 1/30\n",
            "2143/2143 - 223s - loss: 0.6100 - accuracy: 0.7970 - val_loss: 0.3900 - val_accuracy: 0.8663\n",
            "Epoch 2/30\n",
            "2143/2143 - 219s - loss: 0.2842 - accuracy: 0.9197 - val_loss: 0.1237 - val_accuracy: 0.9665\n",
            "\n",
            "Akurasi telah mencapai >90%!\n"
          ],
          "name": "stdout"
        }
      ]
    },
    {
      "cell_type": "code",
      "metadata": {
        "colab": {
          "base_uri": "https://localhost:8080/",
          "height": 295
        },
        "id": "m2Ouu4bhXiA2",
        "outputId": "f598a2cb-886a-4423-ca17-0b7ac66fc1df"
      },
      "source": [
        "plt.plot(history.history['accuracy'])\n",
        "plt.title('Model accuracy')\n",
        "plt.ylabel('Accuracy')\n",
        "plt.xlabel('Epoch')\n",
        "plt.legend(['Train'], loc='lower right')\n",
        "plt.show()"
      ],
      "execution_count": 15,
      "outputs": [
        {
          "output_type": "display_data",
          "data": {
            "image/png": "[encoded data removed]",
            "text/plain": [
              "<Figure size 432x288 with 1 Axes>"
            ]
          },
          "metadata": {
            "tags": [],
            "needs_background": "light"
          }
        }
      ]
    },
    {
      "cell_type": "code",
      "metadata": {
        "colab": {
          "base_uri": "https://localhost:8080/",
          "height": 295
        },
        "id": "RhSouQXSXpVI",
        "outputId": "9ecd022a-4364-4eb6-a8a5-9117fc1b1772"
      },
      "source": [
        "plt.plot(history.history['loss'])\n",
        "plt.title('Model loss')\n",
        "plt.ylabel('Loss')\n",
        "plt.xlabel('Epoch')\n",
        "plt.legend(['Train'], loc='upper right')\n",
        "plt.show()"
      ],
      "execution_count": 16,
      "outputs": [
        {
          "output_type": "display_data",
          "data": {
            "image/png": "[encoded data removed]",
            "text/plain": [
              "<Figure size 432x288 with 1 Axes>"
            ]
          },
          "metadata": {
            "tags": [],
            "needs_background": "light"
          }
        }
      ]
    }
  ]
}